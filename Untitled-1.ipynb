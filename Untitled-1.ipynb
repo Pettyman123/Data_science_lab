{
 "cells": [
  {
   "cell_type": "markdown",
   "metadata": {},
   "source": [
    "1. Implementation of Statistics Dataset in Python"
   ]
  },
  {
   "cell_type": "code",
   "execution_count": 3,
   "metadata": {},
   "outputs": [
    {
     "name": "stdout",
     "output_type": "stream",
     "text": [
      "Mean:  [5.84333333 3.05733333 3.758      1.19933333]\n",
      "Median:  [5.8  3.   4.35 1.3 ]\n",
      "Variance: [0.68112222 0.18871289 3.09550267 0.57713289]\n",
      "Mode: 5.0\n",
      "Standard dev: [0.82530129 0.43441097 1.75940407 0.75969263]\n"
     ]
    }
   ],
   "source": [
    "from sklearn import datasets\n",
    "import numpy as np\n",
    "from scipy import stats\n",
    "\n",
    "# Load a dataset (e.g., Iris dataset)\n",
    "data = datasets.load_iris()\n",
    "X = data.data\n",
    "\n",
    "# Basic statistics\n",
    "mean = np.mean(X, axis=0)\n",
    "median = np.median(X, axis=0)\n",
    "mode = stats.mode(X, axis=0).mode[0]  # Finding mode for each feature\n",
    "variance = np.var(X, axis=0)\n",
    "std_dev = np.std(X, axis=0)\n",
    "\n",
    "# Display results\n",
    "print(\"Mean: \", mean)\n",
    "print(\"Median: \", median)\n",
    "print(\"Variance:\", variance)\n",
    "print(\"Mode:\", mode)\n",
    "print(\"Standard dev:\", std_dev)\n"
   ]
  }
 ],
 "metadata": {
  "kernelspec": {
   "display_name": "Python 3",
   "language": "python",
   "name": "python3"
  },
  "language_info": {
   "codemirror_mode": {
    "name": "ipython",
    "version": 3
   },
   "file_extension": ".py",
   "mimetype": "text/x-python",
   "name": "python",
   "nbconvert_exporter": "python",
   "pygments_lexer": "ipython3",
   "version": "3.10.11"
  }
 },
 "nbformat": 4,
 "nbformat_minor": 2
}
